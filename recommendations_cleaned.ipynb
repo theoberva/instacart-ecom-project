{
 "cells": [
  {
   "cell_type": "code",
   "execution_count": 139,
   "metadata": {},
   "outputs": [],
   "source": [
    "import pandas as pd\n",
    "import json\n",
    "import numpy as np\n",
    "import re\n"
   ]
  },
  {
   "cell_type": "code",
   "execution_count": 140,
   "metadata": {},
   "outputs": [],
   "source": [
    "df = pd.read_csv('dataset/agg/recommendations.csv', )"
   ]
  },
  {
   "cell_type": "code",
   "execution_count": 141,
   "metadata": {},
   "outputs": [],
   "source": [
    "# Then, merge all \"recommendations_str.*\" columns back into a single \"recommendations_str\" column\n",
    "df['recommendations_str'] = df[df.columns[1:]].apply(lambda x: ' '.join(x.astype(str)), axis=1)\n",
    "\n",
    "# You can then drop the redundant columns\n",
    "df = df[['user', 'recommendations_str']]"
   ]
  },
  {
   "cell_type": "code",
   "execution_count": 142,
   "metadata": {},
   "outputs": [],
   "source": [
    "df['recommendations_str'] = df['recommendations_str'].str.replace(r'[\\\\\\\"\\[\\]]', '', regex=True)"
   ]
  },
  {
   "cell_type": "code",
   "execution_count": 143,
   "metadata": {},
   "outputs": [
    {
     "data": {
      "text/plain": [
       "0         {\"item\":43342 ,\"rating\":20.765831}, {\"item\":13...\n",
       "1         {\"item\":34006 ,\"rating\":11.692207}, {\"item\":44...\n",
       "2         {\"item\":20706 ,\"rating\":11.140845}, {\"item\":44...\n",
       "3         {\"item\":43342 ,\"rating\":41.19859}, {\"item\":394...\n",
       "4         {\"item\":20706 ,\"rating\":15.044108}, {\"item\":34...\n",
       "                                ...                        \n",
       "206204    {\"item\":46514 ,\"rating\":47.255756}, {\"item\":44...\n",
       "206205    {\"item\":43839 ,\"rating\":8.834701}, {\"item\":478...\n",
       "206206    {\"item\":24609 ,\"rating\":10.420514}, {\"item\":43...\n",
       "206207    {\"item\":3253 ,\"rating\":21.97093}, {\"item\":1769...\n",
       "206208    {\"item\":33752 ,\"rating\":8.364368}, {\"item\":440...\n",
       "Name: recommendations_str, Length: 206209, dtype: object"
      ]
     },
     "execution_count": 143,
     "metadata": {},
     "output_type": "execute_result"
    }
   ],
   "source": [
    "df['recommendations_str'] = df['recommendations_str'].str.replace('} {', \"}, {\")\n",
    "df['recommendations_str'] = df['recommendations_str'].str.replace(\"rating\", ',\"rating\"')\n",
    "df['recommendations_str'] = df['recommendations_str'].str.replace(\"item\", '\"item\"')\n",
    "df['recommendations_str']"
   ]
  },
  {
   "cell_type": "code",
   "execution_count": 144,
   "metadata": {},
   "outputs": [
    {
     "name": "stdout",
     "output_type": "stream",
     "text": [
      "0         ({'item': 43342, 'rating': 20.765831}, {'item'...\n",
      "1         ({'item': 34006, 'rating': 11.692207}, {'item'...\n",
      "2         ({'item': 20706, 'rating': 11.140845}, {'item'...\n",
      "3         ({'item': 43342, 'rating': 41.19859}, {'item':...\n",
      "4         ({'item': 20706, 'rating': 15.044108}, {'item'...\n",
      "                                ...                        \n",
      "206204    ({'item': 46514, 'rating': 47.255756}, {'item'...\n",
      "206205    ({'item': 43839, 'rating': 8.834701}, {'item':...\n",
      "206206    ({'item': 24609, 'rating': 10.420514}, {'item'...\n",
      "206207    ({'item': 3253, 'rating': 21.97093}, {'item': ...\n",
      "206208    ({'item': 33752, 'rating': 8.364368}, {'item':...\n",
      "Name: recommendations_str, Length: 206209, dtype: object\n"
     ]
    }
   ],
   "source": [
    "import ast\n",
    "\n",
    "recommendations = df['recommendations_str'].apply(lambda x: ast.literal_eval(x))\n",
    "\n",
    "print(recommendations)"
   ]
  },
  {
   "cell_type": "code",
   "execution_count": 146,
   "metadata": {},
   "outputs": [],
   "source": [
    "df['recommendations'] = recommendations"
   ]
  },
  {
   "cell_type": "code",
   "execution_count": 150,
   "metadata": {},
   "outputs": [],
   "source": [
    "df = df[['user','recommendations']]"
   ]
  },
  {
   "cell_type": "code",
   "execution_count": 157,
   "metadata": {},
   "outputs": [],
   "source": [
    "df = df.set_index('user').explode('recommendations').reset_index()"
   ]
  },
  {
   "cell_type": "code",
   "execution_count": 158,
   "metadata": {},
   "outputs": [],
   "source": [
    "df = pd.concat([df.drop(['recommendations'], axis=1), df['recommendations'].apply(pd.Series)], axis=1)"
   ]
  },
  {
   "cell_type": "code",
   "execution_count": 159,
   "metadata": {},
   "outputs": [
    {
     "data": {
      "text/html": [
       "<div>\n",
       "<style scoped>\n",
       "    .dataframe tbody tr th:only-of-type {\n",
       "        vertical-align: middle;\n",
       "    }\n",
       "\n",
       "    .dataframe tbody tr th {\n",
       "        vertical-align: top;\n",
       "    }\n",
       "\n",
       "    .dataframe thead th {\n",
       "        text-align: right;\n",
       "    }\n",
       "</style>\n",
       "<table border=\"1\" class=\"dataframe\">\n",
       "  <thead>\n",
       "    <tr style=\"text-align: right;\">\n",
       "      <th></th>\n",
       "      <th>user</th>\n",
       "      <th>item</th>\n",
       "      <th>rating</th>\n",
       "    </tr>\n",
       "  </thead>\n",
       "  <tbody>\n",
       "    <tr>\n",
       "      <th>0</th>\n",
       "      <td>1</td>\n",
       "      <td>43342.0</td>\n",
       "      <td>20.765831</td>\n",
       "    </tr>\n",
       "    <tr>\n",
       "      <th>1</th>\n",
       "      <td>1</td>\n",
       "      <td>13824.0</td>\n",
       "      <td>14.240823</td>\n",
       "    </tr>\n",
       "    <tr>\n",
       "      <th>2</th>\n",
       "      <td>1</td>\n",
       "      <td>1571.0</td>\n",
       "      <td>14.128424</td>\n",
       "    </tr>\n",
       "    <tr>\n",
       "      <th>3</th>\n",
       "      <td>1</td>\n",
       "      <td>28934.0</td>\n",
       "      <td>13.554399</td>\n",
       "    </tr>\n",
       "    <tr>\n",
       "      <th>4</th>\n",
       "      <td>1</td>\n",
       "      <td>47819.0</td>\n",
       "      <td>13.105035</td>\n",
       "    </tr>\n",
       "    <tr>\n",
       "      <th>...</th>\n",
       "      <td>...</td>\n",
       "      <td>...</td>\n",
       "      <td>...</td>\n",
       "    </tr>\n",
       "    <tr>\n",
       "      <th>2062085</th>\n",
       "      <td>206202</td>\n",
       "      <td>32140.0</td>\n",
       "      <td>5.662667</td>\n",
       "    </tr>\n",
       "    <tr>\n",
       "      <th>2062086</th>\n",
       "      <td>206202</td>\n",
       "      <td>4557.0</td>\n",
       "      <td>5.652735</td>\n",
       "    </tr>\n",
       "    <tr>\n",
       "      <th>2062087</th>\n",
       "      <td>206202</td>\n",
       "      <td>38697.0</td>\n",
       "      <td>5.584359</td>\n",
       "    </tr>\n",
       "    <tr>\n",
       "      <th>2062088</th>\n",
       "      <td>206202</td>\n",
       "      <td>47890.0</td>\n",
       "      <td>5.553699</td>\n",
       "    </tr>\n",
       "    <tr>\n",
       "      <th>2062089</th>\n",
       "      <td>206202</td>\n",
       "      <td>18718.0</td>\n",
       "      <td>5.545322</td>\n",
       "    </tr>\n",
       "  </tbody>\n",
       "</table>\n",
       "<p>2062090 rows × 3 columns</p>\n",
       "</div>"
      ],
      "text/plain": [
       "           user     item     rating\n",
       "0             1  43342.0  20.765831\n",
       "1             1  13824.0  14.240823\n",
       "2             1   1571.0  14.128424\n",
       "3             1  28934.0  13.554399\n",
       "4             1  47819.0  13.105035\n",
       "...         ...      ...        ...\n",
       "2062085  206202  32140.0   5.662667\n",
       "2062086  206202   4557.0   5.652735\n",
       "2062087  206202  38697.0   5.584359\n",
       "2062088  206202  47890.0   5.553699\n",
       "2062089  206202  18718.0   5.545322\n",
       "\n",
       "[2062090 rows x 3 columns]"
      ]
     },
     "execution_count": 159,
     "metadata": {},
     "output_type": "execute_result"
    }
   ],
   "source": [
    "df"
   ]
  },
  {
   "cell_type": "code",
   "execution_count": 160,
   "metadata": {},
   "outputs": [],
   "source": [
    "df.to_csv(\"recommendations_cleaned.csv\")"
   ]
  },
  {
   "cell_type": "code",
   "execution_count": null,
   "metadata": {},
   "outputs": [],
   "source": []
  }
 ],
 "metadata": {
  "kernelspec": {
   "display_name": "venv",
   "language": "python",
   "name": "python3"
  },
  "language_info": {
   "codemirror_mode": {
    "name": "ipython",
    "version": 3
   },
   "file_extension": ".py",
   "mimetype": "text/x-python",
   "name": "python",
   "nbconvert_exporter": "python",
   "pygments_lexer": "ipython3",
   "version": "3.11.3"
  },
  "orig_nbformat": 4
 },
 "nbformat": 4,
 "nbformat_minor": 2
}
