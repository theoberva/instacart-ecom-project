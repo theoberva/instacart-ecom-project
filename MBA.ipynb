{
  "cells": [
    {
      "cell_type": "code",
      "execution_count": 1,
      "metadata": {
        "colab": {
          "base_uri": "https://localhost:8080/",
          "height": 0
        },
        "id": "1OuAsCr9KFAc",
        "outputId": "d5b54374-226c-4cc9-f188-62abba5c3880"
      },
      "outputs": [
        {
          "name": "stdout",
          "output_type": "stream",
          "text": [
            "Drive already mounted at /content/drive; to attempt to forcibly remount, call drive.mount(\"/content/drive\", force_remount=True).\n"
          ]
        }
      ],
      "source": [
        "# https://www.analyticsvidhya.com/blog/2020/11/a-must-read-guide-on-how-to-work-with-pyspark-on-google-colab-for-data-scientists/\n",
        "from google.colab import drive\n",
        "drive.mount('/content/drive')"
      ]
    },
    {
      "cell_type": "code",
      "execution_count": 2,
      "metadata": {
        "colab": {
          "base_uri": "https://localhost:8080/",
          "height": 0
        },
        "id": "vYgdM_GDfDWU",
        "outputId": "35535eeb-9771-40bf-89f2-88fe919a8084"
      },
      "outputs": [
        {
          "name": "stdout",
          "output_type": "stream",
          "text": [
            "mkdir: cannot create directory ‘/root/.kaggle’: File exists\n"
          ]
        }
      ],
      "source": [
        "!mkdir ~/.kaggle\n",
        "!touch ~/.kaggle/kaggle.json\n",
        "\n",
        "api_token = {\"username\":\"theobervanakis\",\"key\":\"74de48417bd53eae60e2b46c03500945\"}\n",
        "\n",
        "import json\n",
        "\n",
        "with open('/root/.kaggle/kaggle.json', 'w') as file:\n",
        "    json.dump(api_token, file)\n",
        "\n",
        "!chmod 600 ~/.kaggle/kaggle.json"
      ]
    },
    {
      "cell_type": "code",
      "execution_count": 3,
      "metadata": {
        "id": "Ds2UjPEUe3f0"
      },
      "outputs": [],
      "source": [
        "import os\n",
        "import zipfile\n",
        "import kaggle"
      ]
    },
    {
      "cell_type": "code",
      "execution_count": 4,
      "metadata": {
        "id": "SJh2Sxnbe0z4"
      },
      "outputs": [],
      "source": [
        "# Download dataset from Kaggle\n",
        "if not os.path.exists('dataset/instacart-market-basket-analysis.zip'):\n",
        "    os.system('kaggle competitions download -c instacart-market-basket-analysis -p dataset/')\n",
        "\n",
        "# Unzip download\n",
        "ZIPFILE_PATH = os.path.join('dataset', 'instacart-market-basket-analysis.zip')\n",
        "\n",
        "with zipfile.ZipFile(ZIPFILE_PATH, 'r') as main_zipfile:\n",
        "    main_zipfile.extractall(path=os.path.join('dataset', 'zip'))\n",
        "\n",
        "# Unzip all wanted csv files\n",
        "EXTRACTED_ZIPFILES_DIRECTORY = os.path.join('dataset', 'zip')\n",
        "\n",
        "for filename in os.listdir(EXTRACTED_ZIPFILES_DIRECTORY):\n",
        "    individual_zipfile_path = os.path.join(EXTRACTED_ZIPFILES_DIRECTORY, filename)\n",
        "    if filename.endswith('.zip') and filename != 'sample_submission.csv.zip':\n",
        "        with zipfile.ZipFile(individual_zipfile_path, 'r') as individual_zipfile:\n",
        "            individual_zipfile.extractall(path=os.path.join('dataset', 'csv'))\n",
        "\n",
        "os.remove(ZIPFILE_PATH)"
      ]
    },
    {
      "cell_type": "code",
      "execution_count": 5,
      "metadata": {
        "colab": {
          "base_uri": "https://localhost:8080/",
          "height": 0
        },
        "id": "HD79eD94K79G",
        "outputId": "45e2fc26-a3a7-44df-f78a-5c0c51ba9195"
      },
      "outputs": [
        {
          "name": "stdout",
          "output_type": "stream",
          "text": [
            "--2023-06-26 11:48:53--  https://dlcdn.apache.org/spark/spark-3.4.0/spark-3.4.0-bin-hadoop3.tgz\n",
            "Resolving dlcdn.apache.org (dlcdn.apache.org)... 151.101.2.132, 2a04:4e42::644\n",
            "Connecting to dlcdn.apache.org (dlcdn.apache.org)|151.101.2.132|:443... connected.\n",
            "HTTP request sent, awaiting response... 200 OK\n",
            "Length: 388407094 (370M) [application/x-gzip]\n",
            "Saving to: ‘/content/drive/MyDrive/PySpark/spark-3.4.0-bin-hadoop3.tgz.6’\n",
            "\n",
            "spark-3.4.0-bin-had 100%[===================>] 370.41M  36.1MB/s    in 9.0s    \n",
            "\n",
            "2023-06-26 11:49:02 (41.3 MB/s) - ‘/content/drive/MyDrive/PySpark/spark-3.4.0-bin-hadoop3.tgz.6’ saved [388407094/388407094]\n",
            "\n"
          ]
        }
      ],
      "source": [
        "# Spark is written in Scala. Soo we will require a Java Virtual Machine (JVM) to run it.\n",
        "!apt-get install openjdk-8-jdk-headless -qq > /dev/null\n",
        "#  install Apache Spark 3.0.1 with Hadoop 2.7\n",
        "!wget -P /content/drive/MyDrive/PySpark https://dlcdn.apache.org/spark/spark-3.4.0/spark-3.4.0-bin-hadoop3.tgz\n",
        "# unzip\n",
        "!tar xf /content/drive/MyDrive/PySpark/spark-3.4.0-bin-hadoop3.tgz\n",
        "\n",
        "# Set the environment path\n",
        "import os\n",
        "os.environ[\"JAVA_HOME\"] = \"/usr/lib/jvm/java-8-openjdk-amd64\"\n",
        "os.environ[\"SPARK_HOME\"] = \"/content/spark-3.4.0-bin-hadoop3\""
      ]
    },
    {
      "cell_type": "code",
      "execution_count": 6,
      "metadata": {
        "colab": {
          "base_uri": "https://localhost:8080/",
          "height": 0
        },
        "id": "Xa7fgz-xMq9g",
        "outputId": "2cccae6e-d7ed-48aa-ae9e-b48709eb5849"
      },
      "outputs": [
        {
          "name": "stdout",
          "output_type": "stream",
          "text": [
            "Looking in indexes: https://pypi.org/simple, https://us-python.pkg.dev/colab-wheels/public/simple/\n",
            "Requirement already satisfied: pyspark in /usr/local/lib/python3.10/dist-packages (3.4.1)\n",
            "Requirement already satisfied: py4j==0.10.9.7 in /usr/local/lib/python3.10/dist-packages (from pyspark) (0.10.9.7)\n"
          ]
        }
      ],
      "source": [
        "!pip install -q findspark\n",
        "!pip install pyspark\n",
        "import findspark\n",
        "findspark.init()"
      ]
    },
    {
      "cell_type": "code",
      "execution_count": 7,
      "metadata": {
        "id": "KjI5hvAaSgNb"
      },
      "outputs": [],
      "source": [
        "# Import SparkSession from pyspark.sql and create a SparkSession\n",
        "from pyspark.sql import SparkSession\n",
        "\n",
        "spark = SparkSession.builder\\\n",
        "        .master(\"local\")\\\n",
        "        .appName(\"instacart_market_basket_analysis\")\\\n",
        "        .config('spark.ui.port', '4050')\\\n",
        "        .getOrCreate()"
      ]
    },
    {
      "cell_type": "code",
      "execution_count": 8,
      "metadata": {
        "colab": {
          "base_uri": "https://localhost:8080/",
          "height": 219
        },
        "id": "_430JVA5ToqX",
        "outputId": "de4f2ed0-4dc2-4bbd-8821-f214dba7219f"
      },
      "outputs": [
        {
          "data": {
            "text/html": [
              "\n",
              "            <div>\n",
              "                <p><b>SparkSession - in-memory</b></p>\n",
              "                \n",
              "        <div>\n",
              "            <p><b>SparkContext</b></p>\n",
              "\n",
              "            <p><a href=\"http://3525132dacc6:4050\">Spark UI</a></p>\n",
              "\n",
              "            <dl>\n",
              "              <dt>Version</dt>\n",
              "                <dd><code>v3.4.0</code></dd>\n",
              "              <dt>Master</dt>\n",
              "                <dd><code>local</code></dd>\n",
              "              <dt>AppName</dt>\n",
              "                <dd><code>instacart_market_basket_analysis</code></dd>\n",
              "            </dl>\n",
              "        </div>\n",
              "        \n",
              "            </div>\n",
              "        "
            ],
            "text/plain": [
              "<pyspark.sql.session.SparkSession at 0x7f389e2670d0>"
            ]
          },
          "execution_count": 8,
          "metadata": {},
          "output_type": "execute_result"
        }
      ],
      "source": [
        "spark"
      ]
    },
    {
      "cell_type": "code",
      "execution_count": 9,
      "metadata": {
        "colab": {
          "base_uri": "https://localhost:8080/",
          "height": 0
        },
        "id": "U8CWnPN9VJdu",
        "outputId": "281932fe-ce39-4b72-f538-6a518a55f9a0"
      },
      "outputs": [
        {
          "name": "stdout",
          "output_type": "stream",
          "text": [
            "Looking in indexes: https://pypi.org/simple, https://us-python.pkg.dev/colab-wheels/public/simple/\n",
            "Requirement already satisfied: pyngrok in /usr/local/lib/python3.10/dist-packages (6.0.0)\n",
            "Requirement already satisfied: PyYAML in /usr/local/lib/python3.10/dist-packages (from pyngrok) (6.0)\n"
          ]
        }
      ],
      "source": [
        "!pip install pyngrok\n",
        "from pyngrok import ngrok"
      ]
    },
    {
      "cell_type": "code",
      "execution_count": 10,
      "metadata": {
        "colab": {
          "base_uri": "https://localhost:8080/",
          "height": 0
        },
        "id": "vyLg72VXTtrW",
        "outputId": "06c70567-e99a-43b5-e2f4-38a46e21fade"
      },
      "outputs": [
        {
          "name": "stderr",
          "output_type": "stream",
          "text": [
            "WARNING:pyngrok.process.ngrok:t=2023-06-26T11:49:36+0000 lvl=warn msg=\"ngrok config file found at legacy location, move to XDG location\" xdg_path=/root/.config/ngrok/ngrok.yml legacy_path=/root/.ngrok2/ngrok.yml\n"
          ]
        },
        {
          "name": "stdout",
          "output_type": "stream",
          "text": [
            "Your Spark UI is exposed at: NgrokTunnel: \"https://0f1e-34-86-49-63.ngrok-free.app\" -> \"http://localhost:4050\"\n"
          ]
        }
      ],
      "source": [
        "# Setup Spark UI\n",
        "# Setting the authtoken\n",
        "ngrok.kill()\n",
        "NGROK_AUTH_TOKEN = \"\"\n",
        "ngrok.set_auth_token(NGROK_AUTH_TOKEN)\n",
        "\n",
        "# Open an HTTP tunnel on port 4050\n",
        "public_url = ngrok.connect(4050)\n",
        "print(\"Your Spark UI is exposed at:\", public_url)"
      ]
    },
    {
      "cell_type": "code",
      "execution_count": 11,
      "metadata": {
        "colab": {
          "base_uri": "https://localhost:8080/",
          "height": 0
        },
        "id": "A40F-m0bT7Bs",
        "outputId": "edabc02a-dd47-4c6c-82fc-20618d0597f5"
      },
      "outputs": [
        {
          "name": "stdout",
          "output_type": "stream",
          "text": [
            "+-------------+--------+----------+--------+-------+--------+------------+---------+-----------------+----------------------+-----------------+---------+--------------------+--------------------+------------+\n",
            "|department_id|aisle_id|product_id|order_id|user_id|eval_set|order_number|order_dow|order_hour_of_day|days_since_prior_order|add_to_cart_order|reordered|        product_name|               aisle|  department|\n",
            "+-------------+--------+----------+--------+-------+--------+------------+---------+-----------------+----------------------+-----------------+---------+--------------------+--------------------+------------+\n",
            "|           16|      53|     30597|      12| 152610|   prior|          22|        6|                8|                  10.0|                1|        1|French Vanilla Co...|               cream|  dairy eggs|\n",
            "|           16|      84|     15221|      12| 152610|   prior|          22|        6|                8|                  10.0|                2|        1|             2% Milk|                milk|  dairy eggs|\n",
            "|            4|      83|     43772|      12| 152610|   prior|          22|        6|                8|                  10.0|                3|        1|Cherubs Heavenly ...|    fresh vegetables|     produce|\n",
            "|           16|      53|     37886|      12| 152610|   prior|          22|        6|                8|                  10.0|                4|        1|Extra Creamy Dair...|               cream|  dairy eggs|\n",
            "|            7|      98|     37215|      12| 152610|   prior|          22|        6|                8|                  10.0|                5|        0|100% Cranberry Juice|       juice nectars|   beverages|\n",
            "|            7|      98|     34335|      12| 152610|   prior|          22|        6|                8|                  10.0|                6|        1|Ruby Red Grapefru...|       juice nectars|   beverages|\n",
            "|            7|      98|      3164|      12| 152610|   prior|          22|        6|                8|                  10.0|                7|        0|100% Juice No Add...|       juice nectars|   beverages|\n",
            "|            7|      98|     26910|      12| 152610|   prior|          22|        6|                8|                  10.0|                8|        0|100% Juice No Sug...|       juice nectars|   beverages|\n",
            "|           15|      69|     38888|      12| 152610|   prior|          22|        6|                8|                  10.0|                9|        0|Cheddar Cheese Co...| soup broth bouillon|canned goods|\n",
            "|            1|      34|     38050|      12| 152610|   prior|          22|        6|                8|                  10.0|               10|        1|All Natural Bonel...| frozen meat seafood|      frozen|\n",
            "|           19|     125|     25213|      12| 152610|   prior|          22|        6|                8|                  10.0|               11|        0|Sweet & Salty Sna...| trail mix snack mix|      snacks|\n",
            "|           19|     125|     11175|      12| 152610|   prior|          22|        6|                8|                  10.0|               12|        0|Game Day Barbecue...| trail mix snack mix|      snacks|\n",
            "|           19|     125|     23390|      12| 152610|   prior|          22|        6|                8|                  10.0|               13|        0|Chocolate Caramel...| trail mix snack mix|      snacks|\n",
            "|            1|     129|     29471|      12| 152610|   prior|          22|        6|                8|                  10.0|               14|        0|Combination Pizza...|frozen appetizers...|      frozen|\n",
            "|            8|      40|     43511|      12| 152610|   prior|          22|        6|                8|                  10.0|               15|        0|Sunrise Grilled S...|       dog food care|        pets|\n",
            "|           16|      91|     35951|      26| 153404|   prior|           2|        0|               16|                   7.0|                1|        0|Organic Unsweeten...|     soy lactosefree|  dairy eggs|\n",
            "|            4|      24|     24852|      26| 153404|   prior|           2|        0|               16|                   7.0|                2|        1|              Banana|        fresh fruits|     produce|\n",
            "|            4|      24|     46206|      26| 153404|   prior|           2|        0|               16|                   7.0|                3|        0|      Red Grapefruit|        fresh fruits|     produce|\n",
            "|           12|      49|     25890|      26| 153404|   prior|           2|        0|               16|                   7.0|                4|        0|Boneless Skinless...|    packaged poultry|meat seafood|\n",
            "|           16|      86|     33120|      26| 153404|   prior|           2|        0|               16|                   7.0|                5|        0|  Organic Egg Whites|                eggs|  dairy eggs|\n",
            "+-------------+--------+----------+--------+-------+--------+------------+---------+-----------------+----------------------+-----------------+---------+--------------------+--------------------+------------+\n",
            "only showing top 20 rows\n",
            "\n"
          ]
        }
      ],
      "source": [
        "# Read the CSV data\n",
        "orders = spark.read.csv('dataset/csv/orders.csv', header=True, inferSchema=True)\n",
        "order_products_prior = spark.read.csv('dataset/csv/order_products__prior.csv', header=True, inferSchema=True)\n",
        "products = spark.read.csv('dataset/csv/products.csv', header=True, inferSchema=True)\n",
        "aisles = spark.read.csv('dataset/csv/aisles.csv', header=True, inferSchema=True)\n",
        "departments = spark.read.csv('dataset/csv/departments.csv', header=True, inferSchema=True)\n",
        "\n",
        "\n",
        "# Join the data\n",
        "data = orders.join(order_products_prior, \"order_id\")\\\n",
        "             .join(products, \"product_id\")\\\n",
        "             .join(aisles, \"aisle_id\")\\\n",
        "             .join(departments, 'department_id')\\\n",
        "\n",
        "\n",
        "data.show()"
      ]
    },
    {
      "cell_type": "code",
      "execution_count": 12,
      "metadata": {
        "colab": {
          "base_uri": "https://localhost:8080/",
          "height": 0
        },
        "id": "AiE42OAfZjgt",
        "outputId": "7195f209-d738-4ed8-8a7d-d68eafcad93b"
      },
      "outputs": [
        {
          "name": "stdout",
          "output_type": "stream",
          "text": [
            "root\n",
            " |-- department_id: string (nullable = true)\n",
            " |-- aisle_id: string (nullable = true)\n",
            " |-- product_id: integer (nullable = true)\n",
            " |-- order_id: integer (nullable = true)\n",
            " |-- user_id: integer (nullable = true)\n",
            " |-- eval_set: string (nullable = true)\n",
            " |-- order_number: integer (nullable = true)\n",
            " |-- order_dow: integer (nullable = true)\n",
            " |-- order_hour_of_day: integer (nullable = true)\n",
            " |-- days_since_prior_order: double (nullable = true)\n",
            " |-- add_to_cart_order: integer (nullable = true)\n",
            " |-- reordered: integer (nullable = true)\n",
            " |-- product_name: string (nullable = true)\n",
            " |-- aisle: string (nullable = true)\n",
            " |-- department: string (nullable = true)\n",
            "\n"
          ]
        }
      ],
      "source": [
        "data.printSchema()"
      ]
    },
    {
      "cell_type": "code",
      "execution_count": 13,
      "metadata": {
        "colab": {
          "base_uri": "https://localhost:8080/",
          "height": 0
        },
        "id": "Nn3OL2Tog2Pj",
        "outputId": "c2241754-a001-4def-ed35-fce714835b07"
      },
      "outputs": [
        {
          "name": "stdout",
          "output_type": "stream",
          "text": [
            "+--------+-----------------------------------------------------------------------------------------------------------------------------------------------------------------------------------------------------------------------------------------------------------------------------------------------------------------------------------------------------------------------------------------------------------------------------------------------------------------------------------------------------------------------------------------------------------------------------------------------------------------------------------------------------------+\n",
            "|order_id|items                                                                                                                                                                                                                                                                                                                                                                                                                                                                                                                                                                                                                                                      |\n",
            "+--------+-----------------------------------------------------------------------------------------------------------------------------------------------------------------------------------------------------------------------------------------------------------------------------------------------------------------------------------------------------------------------------------------------------------------------------------------------------------------------------------------------------------------------------------------------------------------------------------------------------------------------------------------------------------+\n",
            "|12      |[French Vanilla Coffee Creamer, 2% Milk, Cherubs Heavenly Salad Tomatoes, Extra Creamy Dairy Whipped Topping, 100% Cranberry Juice, Ruby Red Grapefruit Juice, 100% Juice No Added Sugar Orange Tangerine, 100% Juice No Sugar Added Apple, Cheddar Cheese Condensed Soup, All Natural Boneless Skinless Chicken Breasts, Sweet & Salty Snack Mix, Game Day Barbecue Trail Mix, Chocolate Caramel Cashew Trail Mix, Combination Pizza Rolls, Sunrise Grilled Steak and Eggs Canine Cuisine Wet Dog Food]                                                                                                                                                   |\n",
            "|22      |[2% Reduced Fat Milk, Butter Top White Bread, Banana, Iceberg Lettuce, Broccoli Florets, Large Grade AA Eggs, Provolone Slices, Vine Ripe Tomatoes, Boneless And Skinless Chicken Breast, Deli Fresh Honey Smoked Turkey Breast, 98% Fat Free, Gluten Free, Presliced Everything Bagels, Cream Cheese, Asparagus, Sandwich Bags]                                                                                                                                                                                                                                                                                                                           |\n",
            "|26      |[Organic Unsweetened Almond Milk, Banana, Red Grapefruit, Boneless Skinless Chicken Breasts, Organic Egg Whites, Organic Baby Spinach, Berry Medley, Organic Avocado]                                                                                                                                                                                                                                                                                                                                                                                                                                                                                      |\n",
            "|27      |[Bag of Organic Bananas, Low Fat Vanilla Yogurt, Lemon Hummus, Roasted Red Pepper Hummus, Dark Chocolate Chips, Organic Low Sodium Vegetable Broth, Organic Avocado, Carrots, Organic Sour Cream, Green Bell Pepper, Organic No Salt Added Diced Tomatoes, No Salt Added Black Beans, Firm Tofu, Organic Eggplant, Organic Marinara Pasta Sauce, Michigan Organic Kale, Organic Bunch Beets, Feta Cheese Crumbles, Pasta Joy Ready Organic Brown Rice Pasta Penne, 3 lb Clementines, Organic Whole Strawberries, Organic Mango Chunks, Teriyaki Veggie Burgers, Organic Tomato Cluster, Coconut Sugar Pure & Unrefined, Almond Meal/Flour, Parchment Paper]|\n",
            "|28      |[Salted Butter, Cream Cheese, Air Chilled Organic Boneless Skinless Chicken Breasts, Organic D'Anjou Pears, Cultured Low Fat Buttermilk, Large Lemon, Organic Strawberry Fruit Spread, Large Greenhouse Tomato, Original Semisoft Cheese, Whole Organic Omega 3 Milk, Organic Heavy Whipping Cream, Organic Hass Avocado, 1% Lowfat Milk, Organic Whole Milk Strawberry Beet Berry Yogurt Pouch, Organic Black Plum, Organic Red Delicious Apple]                                                                                                                                                                                                          |\n",
            "|31      |[Earl Grey Tea, Organic Yellow Onion, Organic Baby Spinach, Organic Cilantro, Seedless Red Grapes, Heirloom Tomato, Organic Whole Grain Sprouted Quinoa, Roasted & Salted Almonds, Uncured, No Sugar, Hickory Smoked Bacon, Organic Vidalia Onion]                                                                                                                                                                                                                                                                                                                                                                                                         |\n",
            "|44      |[Sausage Biscuit, Diet Mountain Dew Soda, Cereal, Breaded Chicken Breast Tenders, Honey Roasted Turkey, Clover Honey Bear, French Onion Dip, Chicken Pot Pie, Eggo Nutri-Grain Blueberry Waffles, Presliced Everything Bagels]                                                                                                                                                                                                                                                                                                                                                                                                                             |\n",
            "|47      |[Strawberries, Organic Blueberries, Raspberries, Beef Franks, Golden Pineapple]                                                                                                                                                                                                                                                                                                                                                                                                                                                                                                                                                                            |\n",
            "|53      |[Banana, Organic Gala Apples, Organic Hass Avocado, Sprouted Multi-Grain Bread, Organic Original Tofu Veggie Burger, Sweet Baguette, Organic Grape Tomatoes, Organic Lemon, Yo Baby Organic Whole Milk Banana Mango Yogurt, Organic Traditional Flour Tortillas, Organic Blueberries, Organic Raw Sharp Cheddar Cheese, Large Lemon, Original Veggie Straws, Burrata]                                                                                                                                                                                                                                                                                      |\n",
            "|65      |[Organic 1% Lowfat Milk, Organic 2% Reduced Fat Milk, Soy Sauce]                                                                                                                                                                                                                                                                                                                                                                                                                                                                                                                                                                                           |\n",
            "|76      |[Cinnamon Sugar Cookie Chips, Seedless Watermelon, Fresh Sugar Snap Peas, Grape Tomatoes, Mini Sweet Peppers]                                                                                                                                                                                                                                                                                                                                                                                                                                                                                                                                              |\n",
            "|78      |[Fat Free Skim Milk, Fresh Mozzarella All-Natural Sliced Cheese, Roasted Pine Nut Hummus, Whole Grain Cheddar Baked Snack Crackers, Strawberries]                                                                                                                                                                                                                                                                                                                                                                                                                                                                                                          |\n",
            "|81      |[Organic Baby Spinach Salad, Sliced Baby Bella Mushrooms, Unsweetened Almondmilk, Organic Hass Avocado, Organic Acorn Squash, Canary Melon, Organic English Cucumber, Organic Strawberries, Organic Kiwi, Fancy Whole Artichoke Hearts, Brussels Sprouts]                                                                                                                                                                                                                                                                                                                                                                                                  |\n",
            "|85      |[Strawberries, Green Seedless Grapes, Red Globe Grapes, Mini Marshmallows, Miniatures, L'elegance Toothpicks, Medium Cookie Sheet, Medium Roast Original Blend Ground Coffee, Ultra Soft Facial Tissues]                                                                                                                                                                                                                                                                                                                                                                                                                                                   |\n",
            "|91      |[Organic Celery, Organic Shredded Unsweetened Coconut, Lightly Breaded Fish Sticks, Quinoa & Leeks with Chicken + Tarragon Organic Baby Food, Smoked Maple Ham, Organic Avocados]                                                                                                                                                                                                                                                                                                                                                                                                                                                                          |\n",
            "|93      |[Chewy Granola Bars Variety Pack, Taco Seasoning Mix Original, Sweetened Corn & Oat Cereal, 100% Pineapple Juice, Crunchy Taco Shells, 2% Reduced Fat Milk, French Vanilla Creamer, Pure & Natural Sour Cream, Ultra Apple Blossom Antibacterial Dish Liquid, 37% Less Sodium Soy Sauce, Gala Apples, Bag of Organic Bananas, Roma Tomato, Delifresh Combos The Honey Smoked Turkey Breast Honey Ham]                                                                                                                                                                                                                                                      |\n",
            "|101     |[Vidalia Onion and Cilantro Dressing Marinade, Mini Cucumbers, Sea Salt Popcorn, Lemon Italian Sparkling Mineral Water, Organic Fresh Carrot Chips, Toasted Coconut Almondmilk Blend, Organic Baby Arugula, Tortilla Chips with Salt, Organic Matcha Tea Bags, Flat Fillets of Anchovies, Organic Whole Wheat Fusilli, Large Lemon]                                                                                                                                                                                                                                                                                                                        |\n",
            "|103     |[French Roast Ground Coffee, House Blend Deep Roast Ground Coffee, Major Dickason's Blend Ground Coffee Dark Roast, Major Dickason's Blend Whole Bean Coffee]                                                                                                                                                                                                                                                                                                                                                                                                                                                                                              |\n",
            "|108     |[Organic Fat Free Milk, Lemongrass Citrus Scent Disinfecting Wipes, All Natural Powder Cleanser, Lavender Multi-Surface Everyday Cleaner, Lavender Scent Multi-Surface Cleaner Concentrate, Tomato Ketchup, Thin Sliced American Cheese, Watermelon Chunks, Liquid Hand Soap, Refill, Lavender Scent]                                                                                                                                                                                                                                                                                                                                                      |\n",
            "|111     |[Strawberries, Roasted Turkey, Air Chilled Organic Boneless Skinless Chicken Breasts, Organic Chai Tea Latte Concentrate, Cucumber Kirby]                                                                                                                                                                                                                                                                                                                                                                                                                                                                                                                  |\n",
            "+--------+-----------------------------------------------------------------------------------------------------------------------------------------------------------------------------------------------------------------------------------------------------------------------------------------------------------------------------------------------------------------------------------------------------------------------------------------------------------------------------------------------------------------------------------------------------------------------------------------------------------------------------------------------------------+\n",
            "only showing top 20 rows\n",
            "\n"
          ]
        }
      ],
      "source": [
        "from pyspark.sql.functions import split, collect_list, col, count\n",
        "\n",
        "# Group by 'order_id' and collect the 'product_name's for each order\n",
        "transactions = data.groupBy('order_id').agg(collect_list('product_name').alias('items'))\n",
        "\n",
        "# Show the result\n",
        "transactions.show(truncate=False)"
      ]
    },
    {
      "cell_type": "code",
      "execution_count": 21,
      "metadata": {
        "colab": {
          "base_uri": "https://localhost:8080/",
          "height": 0
        },
        "id": "ygpoideRg2lj",
        "outputId": "0df7eaf0-1bd0-4369-bef9-5a01cf762eed"
      },
      "outputs": [
        {
          "name": "stdout",
          "output_type": "stream",
          "text": [
            "+------------------------------------------------+------+\n",
            "|items                                           |freq  |\n",
            "+------------------------------------------------+------+\n",
            "|[Original No Pulp 100% Florida Orange Juice]    |19345 |\n",
            "|[Baby Spinach]                                  |23129 |\n",
            "|[Lemon Hummus]                                  |16439 |\n",
            "|[Sharp Cheddar Cheese]                          |30170 |\n",
            "|[Unsweetened Original Almond Breeze Almond Milk]|34583 |\n",
            "|[Oven Roasted Turkey Breast]                    |20069 |\n",
            "|[Green Bell Pepper]                             |55484 |\n",
            "|[Yellow Bell Pepper]                            |25459 |\n",
            "|[Organic Small Bunch Celery]                    |68091 |\n",
            "|[Organic Red Radish, Bunch]                     |27226 |\n",
            "|[Organic Broccoli]                              |38720 |\n",
            "|[Seedless Red Grapes]                           |82689 |\n",
            "|[Seedless Red Grapes, Banana]                   |24594 |\n",
            "|[Roasted Red Pepper Hummus]                     |17038 |\n",
            "|[Bunched Cilantro]                              |45530 |\n",
            "|[Organic Avocado]                               |176815|\n",
            "|[Organic Avocado, Organic Strawberries]         |23984 |\n",
            "|[Organic Avocado, Bag of Organic Bananas]       |22891 |\n",
            "|[Organic Avocado, Organic Baby Spinach]         |30889 |\n",
            "|[Organic Avocado, Banana]                       |53395 |\n",
            "+------------------------------------------------+------+\n",
            "only showing top 20 rows\n",
            "\n",
            "+--------------------------+------------------------+-------------------+------------------+---------------------+\n",
            "|antecedent                |consequent              |confidence         |lift              |support              |\n",
            "+--------------------------+------------------------+-------------------+------------------+---------------------+\n",
            "|[Organic Lemon]           |[Organic Hass Avocado]  |0.24213069541631527|3.644559879465836 |0.006608657135551813 |\n",
            "|[Organic Lemon]           |[Bag of Organic Bananas]|0.2550885510450619 |2.161226908558288 |0.0069623257396712905|\n",
            "|[Yellow Onions]           |[Banana]                |0.2893107548484973 |1.9681898229509334|0.00658439490941169  |\n",
            "|[Apple Honeycrisp Organic]|[Bag of Organic Bananas]|0.27871089155492823|2.3613661846798215|0.007370739879696685 |\n",
            "|[Apple Honeycrisp Organic]|[Banana]                |0.2050341096212656 |1.394853254334444 |0.005422296488136083 |\n",
            "|[Seedless Red Grapes]     |[Banana]                |0.29742771106193083|2.0234097217790437|0.007650066534489377 |\n",
            "|[Cucumber Kirby]          |[Banana]                |0.32982582335713917|2.2438150604455673|0.009983906056660385 |\n",
            "|[Organic Whole Milk]      |[Organic Strawberries]  |0.17267684275406983|2.0973552973638183|0.007407133218906868 |\n",
            "|[Organic Whole Milk]      |[Bag of Organic Bananas]|0.19202349443457453|1.6269108964207626|0.00823702577457157  |\n",
            "|[Organic Whole Milk]      |[Organic Baby Spinach]  |0.12286719118233566|1.632774907449623 |0.005270502047669675 |\n",
            "|[Organic Whole Milk]      |[Banana]                |0.22944055690511583|1.5608910540132623|0.009842065349995054 |\n",
            "|[Organic Fuji Apple]      |[Banana]                |0.3786928775437344 |2.5762591093300085|0.01055811207530995  |\n",
            "|[Organic Hass Avocado]    |[Organic Raspberries]   |0.12076279122031613|2.8326693102988   |0.008023020497848438 |\n",
            "|[Organic Hass Avocado]    |[Organic Strawberries]  |0.19099745299273355|2.319879802225913 |0.012689144271284038 |\n",
            "|[Organic Hass Avocado]    |[Bag of Organic Bananas]|0.29188047793842237|2.4729449456629533|0.019391428715402222 |\n",
            "|[Organic Hass Avocado]    |[Organic Baby Spinach]  |0.16340643493894674|2.171498543400166 |0.010856101980979659 |\n",
            "|[Organic Hass Avocado]    |[Banana]                |0.14618136189976777|0.9944762300554506|0.009711733648037218 |\n",
            "|[Banana]                  |[Organic Avocado]       |0.11298974744215082|2.054394713787502 |0.016608738009638947 |\n",
            "|[Banana]                  |[Organic Strawberries]  |0.11883232994402887|1.443352870779309 |0.017467558604163026 |\n",
            "|[Banana]                  |[Organic Baby Spinach]  |0.10875752541978352|1.4452723855159377|0.015986629647071704 |\n",
            "+--------------------------+------------------------+-------------------+------------------+---------------------+\n",
            "only showing top 20 rows\n",
            "\n",
            "+--------+-----------------------------------------------------------------------------------------------------------------------------------------------------------------------------------------------------------------------------------------------------------------------------------------------------------------------------------------------------------------------------------------------------------------------------------------------------------------------------------------------------------------------------------------------------------------------------------------------------------------------------------------------------------+-------------------------------------------------------------------------------------------------------------------------+\n",
            "|order_id|items                                                                                                                                                                                                                                                                                                                                                                                                                                                                                                                                                                                                                                                      |prediction                                                                                                               |\n",
            "+--------+-----------------------------------------------------------------------------------------------------------------------------------------------------------------------------------------------------------------------------------------------------------------------------------------------------------------------------------------------------------------------------------------------------------------------------------------------------------------------------------------------------------------------------------------------------------------------------------------------------------------------------------------------------------+-------------------------------------------------------------------------------------------------------------------------+\n",
            "|12      |[French Vanilla Coffee Creamer, 2% Milk, Cherubs Heavenly Salad Tomatoes, Extra Creamy Dairy Whipped Topping, 100% Cranberry Juice, Ruby Red Grapefruit Juice, 100% Juice No Added Sugar Orange Tangerine, 100% Juice No Sugar Added Apple, Cheddar Cheese Condensed Soup, All Natural Boneless Skinless Chicken Breasts, Sweet & Salty Snack Mix, Game Day Barbecue Trail Mix, Chocolate Caramel Cashew Trail Mix, Combination Pizza Rolls, Sunrise Grilled Steak and Eggs Canine Cuisine Wet Dog Food]                                                                                                                                                   |[]                                                                                                                       |\n",
            "|22      |[2% Reduced Fat Milk, Butter Top White Bread, Banana, Iceberg Lettuce, Broccoli Florets, Large Grade AA Eggs, Provolone Slices, Vine Ripe Tomatoes, Boneless And Skinless Chicken Breast, Deli Fresh Honey Smoked Turkey Breast, 98% Fat Free, Gluten Free, Presliced Everything Bagels, Cream Cheese, Asparagus, Sandwich Bags]                                                                                                                                                                                                                                                                                                                           |[Organic Avocado, Organic Strawberries, Organic Baby Spinach]                                                            |\n",
            "|26      |[Organic Unsweetened Almond Milk, Banana, Red Grapefruit, Boneless Skinless Chicken Breasts, Organic Egg Whites, Organic Baby Spinach, Berry Medley, Organic Avocado]                                                                                                                                                                                                                                                                                                                                                                                                                                                                                      |[Organic Strawberries, Bag of Organic Bananas, Large Lemon, Limes, Organic Hass Avocado]                                 |\n",
            "|27      |[Bag of Organic Bananas, Low Fat Vanilla Yogurt, Lemon Hummus, Roasted Red Pepper Hummus, Dark Chocolate Chips, Organic Low Sodium Vegetable Broth, Organic Avocado, Carrots, Organic Sour Cream, Green Bell Pepper, Organic No Salt Added Diced Tomatoes, No Salt Added Black Beans, Firm Tofu, Organic Eggplant, Organic Marinara Pasta Sauce, Michigan Organic Kale, Organic Bunch Beets, Feta Cheese Crumbles, Pasta Joy Ready Organic Brown Rice Pasta Penne, 3 lb Clementines, Organic Whole Strawberries, Organic Mango Chunks, Teriyaki Veggie Burgers, Organic Tomato Cluster, Coconut Sugar Pure & Unrefined, Almond Meal/Flour, Parchment Paper]|[Organic Strawberries, Organic Baby Spinach, Banana, Large Lemon, Limes, Organic Raspberries, Organic Hass Avocado]      |\n",
            "|28      |[Salted Butter, Cream Cheese, Air Chilled Organic Boneless Skinless Chicken Breasts, Organic D'Anjou Pears, Cultured Low Fat Buttermilk, Large Lemon, Organic Strawberry Fruit Spread, Large Greenhouse Tomato, Original Semisoft Cheese, Whole Organic Omega 3 Milk, Organic Heavy Whipping Cream, Organic Hass Avocado, 1% Lowfat Milk, Organic Whole Milk Strawberry Beet Berry Yogurt Pouch, Organic Black Plum, Organic Red Delicious Apple]                                                                                                                                                                                                          |[Organic Raspberries, Organic Strawberries, Bag of Organic Bananas, Organic Baby Spinach, Banana, Organic Avocado, Limes]|\n",
            "|31      |[Earl Grey Tea, Organic Yellow Onion, Organic Baby Spinach, Organic Cilantro, Seedless Red Grapes, Heirloom Tomato, Organic Whole Grain Sprouted Quinoa, Roasted & Salted Almonds, Uncured, No Sugar, Hickory Smoked Bacon, Organic Vidalia Onion]                                                                                                                                                                                                                                                                                                                                                                                                         |[Banana, Organic Avocado, Organic Strawberries, Bag of Organic Bananas, Organic Hass Avocado, Limes, Organic Garlic]     |\n",
            "|44      |[Sausage Biscuit, Diet Mountain Dew Soda, Cereal, Breaded Chicken Breast Tenders, Honey Roasted Turkey, Clover Honey Bear, French Onion Dip, Chicken Pot Pie, Eggo Nutri-Grain Blueberry Waffles, Presliced Everything Bagels]                                                                                                                                                                                                                                                                                                                                                                                                                             |[]                                                                                                                       |\n",
            "|47      |[Strawberries, Organic Blueberries, Raspberries, Beef Franks, Golden Pineapple]                                                                                                                                                                                                                                                                                                                                                                                                                                                                                                                                                                            |[Organic Strawberries, Bag of Organic Bananas, Banana]                                                                   |\n",
            "|53      |[Banana, Organic Gala Apples, Organic Hass Avocado, Sprouted Multi-Grain Bread, Organic Original Tofu Veggie Burger, Sweet Baguette, Organic Grape Tomatoes, Organic Lemon, Yo Baby Organic Whole Milk Banana Mango Yogurt, Organic Traditional Flour Tortillas, Organic Blueberries, Organic Raw Sharp Cheddar Cheese, Large Lemon, Original Veggie Straws, Burrata]                                                                                                                                                                                                                                                                                      |[Bag of Organic Bananas, Organic Raspberries, Organic Strawberries, Organic Baby Spinach, Organic Avocado, Limes]        |\n",
            "|65      |[Organic 1% Lowfat Milk, Organic 2% Reduced Fat Milk, Soy Sauce]                                                                                                                                                                                                                                                                                                                                                                                                                                                                                                                                                                                           |[]                                                                                                                       |\n",
            "|76      |[Cinnamon Sugar Cookie Chips, Seedless Watermelon, Fresh Sugar Snap Peas, Grape Tomatoes, Mini Sweet Peppers]                                                                                                                                                                                                                                                                                                                                                                                                                                                                                                                                              |[]                                                                                                                       |\n",
            "|78      |[Fat Free Skim Milk, Fresh Mozzarella All-Natural Sliced Cheese, Roasted Pine Nut Hummus, Whole Grain Cheddar Baked Snack Crackers, Strawberries]                                                                                                                                                                                                                                                                                                                                                                                                                                                                                                          |[Bag of Organic Bananas, Banana]                                                                                         |\n",
            "|81      |[Organic Baby Spinach Salad, Sliced Baby Bella Mushrooms, Unsweetened Almondmilk, Organic Hass Avocado, Organic Acorn Squash, Canary Melon, Organic English Cucumber, Organic Strawberries, Organic Kiwi, Fancy Whole Artichoke Hearts, Brussels Sprouts]                                                                                                                                                                                                                                                                                                                                                                                                  |[Organic Raspberries, Bag of Organic Bananas, Organic Baby Spinach, Banana]                                              |\n",
            "|85      |[Strawberries, Green Seedless Grapes, Red Globe Grapes, Mini Marshmallows, Miniatures, L'elegance Toothpicks, Medium Cookie Sheet, Medium Roast Original Blend Ground Coffee, Ultra Soft Facial Tissues]                                                                                                                                                                                                                                                                                                                                                                                                                                                   |[Bag of Organic Bananas, Banana]                                                                                         |\n",
            "|91      |[Organic Celery, Organic Shredded Unsweetened Coconut, Lightly Breaded Fish Sticks, Quinoa & Leeks with Chicken + Tarragon Organic Baby Food, Smoked Maple Ham, Organic Avocados]                                                                                                                                                                                                                                                                                                                                                                                                                                                                          |[]                                                                                                                       |\n",
            "|93      |[Chewy Granola Bars Variety Pack, Taco Seasoning Mix Original, Sweetened Corn & Oat Cereal, 100% Pineapple Juice, Crunchy Taco Shells, 2% Reduced Fat Milk, French Vanilla Creamer, Pure & Natural Sour Cream, Ultra Apple Blossom Antibacterial Dish Liquid, 37% Less Sodium Soy Sauce, Gala Apples, Bag of Organic Bananas, Roma Tomato, Delifresh Combos The Honey Smoked Turkey Breast Honey Ham]                                                                                                                                                                                                                                                      |[Organic Raspberries, Organic Strawberries, Organic Baby Spinach, Organic Hass Avocado]                                  |\n",
            "|101     |[Vidalia Onion and Cilantro Dressing Marinade, Mini Cucumbers, Sea Salt Popcorn, Lemon Italian Sparkling Mineral Water, Organic Fresh Carrot Chips, Toasted Coconut Almondmilk Blend, Organic Baby Arugula, Tortilla Chips with Salt, Organic Matcha Tea Bags, Flat Fillets of Anchovies, Organic Whole Wheat Fusilli, Large Lemon]                                                                                                                                                                                                                                                                                                                        |[Organic Strawberries, Organic Avocado, Bag of Organic Bananas, Organic Baby Spinach, Banana, Limes]                     |\n",
            "|103     |[French Roast Ground Coffee, House Blend Deep Roast Ground Coffee, Major Dickason's Blend Ground Coffee Dark Roast, Major Dickason's Blend Whole Bean Coffee]                                                                                                                                                                                                                                                                                                                                                                                                                                                                                              |[]                                                                                                                       |\n",
            "|108     |[Organic Fat Free Milk, Lemongrass Citrus Scent Disinfecting Wipes, All Natural Powder Cleanser, Lavender Multi-Surface Everyday Cleaner, Lavender Scent Multi-Surface Cleaner Concentrate, Tomato Ketchup, Thin Sliced American Cheese, Watermelon Chunks, Liquid Hand Soap, Refill, Lavender Scent]                                                                                                                                                                                                                                                                                                                                                      |[]                                                                                                                       |\n",
            "|111     |[Strawberries, Roasted Turkey, Air Chilled Organic Boneless Skinless Chicken Breasts, Organic Chai Tea Latte Concentrate, Cucumber Kirby]                                                                                                                                                                                                                                                                                                                                                                                                                                                                                                                  |[Banana, Bag of Organic Bananas]                                                                                         |\n",
            "+--------+-----------------------------------------------------------------------------------------------------------------------------------------------------------------------------------------------------------------------------------------------------------------------------------------------------------------------------------------------------------------------------------------------------------------------------------------------------------------------------------------------------------------------------------------------------------------------------------------------------------------------------------------------------------+-------------------------------------------------------------------------------------------------------------------------+\n",
            "only showing top 20 rows\n",
            "\n"
          ]
        }
      ],
      "source": [
        "from pyspark.ml.fpm import FPGrowth\n",
        "\n",
        "# Initialize the FPGrowth algorithm\n",
        "fpGrowth = FPGrowth(itemsCol='items', minSupport=0.005, minConfidence=0.10)\n",
        "\n",
        "# Fit the model\n",
        "model = fpGrowth.fit(transactions)\n",
        "\n",
        "# Display frequent itemsets\n",
        "model.freqItemsets.show(truncate=False)\n",
        "\n",
        "# Display generated association rulesd\n",
        "model.associationRules.show(truncate=False)\n",
        "\n",
        "# transform examines the input items against all the association rules and summarize the\n",
        "# consequents as prediction\n",
        "model.transform(transactions).show(truncate=False)"
      ]
    },
    {
      "cell_type": "code",
      "execution_count": 22,
      "metadata": {
        "colab": {
          "base_uri": "https://localhost:8080/",
          "height": 564
        },
        "id": "BygfpajlhSEr",
        "outputId": "65264dbc-f58b-473f-f15a-fe85cf79b870"
      },
      "outputs": [
        {
          "data": {
            "image/png": "[encoded data removed]",
            "text/plain": [
              "<Figure size 1000x600 with 1 Axes>"
            ]
          },
          "metadata": {},
          "output_type": "display_data"
        }
      ],
      "source": [
        "import matplotlib.pyplot as plt\n",
        "import seaborn as sns\n",
        "\n",
        "# Convert association rules to pandas dataframe\n",
        "association_rules = model.associationRules.toPandas()\n",
        "\n",
        "plt.figure(figsize=(10,6))\n",
        "sns.scatterplot(x=\"confidence\", y=\"lift\", data=association_rules)\n",
        "plt.xlabel(\"Confidence\")\n",
        "plt.ylabel(\"Lift\")\n",
        "plt.title(\"Confidence vs Lift\")\n",
        "plt.show()"
      ]
    },
    {
      "cell_type": "code",
      "execution_count": 23,
      "metadata": {
        "colab": {
          "base_uri": "https://localhost:8080/",
          "height": 0
        },
        "id": "rdfCIoycpa1N",
        "outputId": "b2c4acca-0923-4e05-afe2-c101ae0ca74d"
      },
      "outputs": [
        {
          "name": "stdout",
          "output_type": "stream",
          "text": [
            "+----------------------------------------------+-----+\n",
            "|items                                         |freq |\n",
            "+----------------------------------------------+-----+\n",
            "|[Organic Hass Avocado, Bag of Organic Bananas]|62341|\n",
            "|[Organic Strawberries, Bag of Organic Bananas]|61628|\n",
            "|[Organic Strawberries, Banana]                |56156|\n",
            "|[Organic Avocado, Banana]                     |53395|\n",
            "|[Organic Baby Spinach, Banana]                |51395|\n",
            "+----------------------------------------------+-----+\n",
            "only showing top 5 rows\n",
            "\n"
          ]
        }
      ],
      "source": [
        "# Display the top 5 frequent itemsets with 2 or more items\n",
        "from pyspark.sql.functions import size\n",
        "model.freqItemsets.filter(size(col(\"items\")) >= 2).sort('freq', ascending=False).show(5, truncate=False)\n"
      ]
    },
    {
      "cell_type": "code",
      "execution_count": 27,
      "metadata": {
        "colab": {
          "base_uri": "https://localhost:8080/",
          "height": 424
        },
        "id": "SuJSSr5qqLUv",
        "outputId": "33720afb-7336-4958-9ad6-4886bcb0982d"
      },
      "outputs": [
        {
          "data": {
            "text/html": [
              "\n",
              "  <div id=\"df-7998b567-b87c-4242-aede-38bb0c4458a6\">\n",
              "    <div class=\"colab-df-container\">\n",
              "      <div>\n",
              "<style scoped>\n",
              "    .dataframe tbody tr th:only-of-type {\n",
              "        vertical-align: middle;\n",
              "    }\n",
              "\n",
              "    .dataframe tbody tr th {\n",
              "        vertical-align: top;\n",
              "    }\n",
              "\n",
              "    .dataframe thead th {\n",
              "        text-align: right;\n",
              "    }\n",
              "</style>\n",
              "<table border=\"1\" class=\"dataframe\">\n",
              "  <thead>\n",
              "    <tr style=\"text-align: right;\">\n",
              "      <th></th>\n",
              "      <th>antecedent</th>\n",
              "      <th>consequent</th>\n",
              "      <th>confidence</th>\n",
              "      <th>lift</th>\n",
              "      <th>support</th>\n",
              "    </tr>\n",
              "  </thead>\n",
              "  <tbody>\n",
              "    <tr>\n",
              "      <th>39</th>\n",
              "      <td>[Limes]</td>\n",
              "      <td>[Organic Cilantro]</td>\n",
              "      <td>0.124905</td>\n",
              "      <td>5.775753</td>\n",
              "      <td>0.005464</td>\n",
              "    </tr>\n",
              "    <tr>\n",
              "      <th>79</th>\n",
              "      <td>[Organic Cilantro]</td>\n",
              "      <td>[Limes]</td>\n",
              "      <td>0.252647</td>\n",
              "      <td>5.775753</td>\n",
              "      <td>0.005464</td>\n",
              "    </tr>\n",
              "    <tr>\n",
              "      <th>48</th>\n",
              "      <td>[Organic Garlic]</td>\n",
              "      <td>[Organic Yellow Onion]</td>\n",
              "      <td>0.201069</td>\n",
              "      <td>5.698983</td>\n",
              "      <td>0.006866</td>\n",
              "    </tr>\n",
              "    <tr>\n",
              "      <th>87</th>\n",
              "      <td>[Organic Yellow Onion]</td>\n",
              "      <td>[Organic Garlic]</td>\n",
              "      <td>0.194603</td>\n",
              "      <td>5.698983</td>\n",
              "      <td>0.006866</td>\n",
              "    </tr>\n",
              "    <tr>\n",
              "      <th>31</th>\n",
              "      <td>[Large Lemon]</td>\n",
              "      <td>[Limes]</td>\n",
              "      <td>0.179507</td>\n",
              "      <td>4.103710</td>\n",
              "      <td>0.008524</td>\n",
              "    </tr>\n",
              "    <tr>\n",
              "      <th>...</th>\n",
              "      <td>...</td>\n",
              "      <td>...</td>\n",
              "      <td>...</td>\n",
              "      <td>...</td>\n",
              "      <td>...</td>\n",
              "    </tr>\n",
              "    <tr>\n",
              "      <th>63</th>\n",
              "      <td>[Organic Avocado]</td>\n",
              "      <td>[Bag of Organic Bananas]</td>\n",
              "      <td>0.129463</td>\n",
              "      <td>1.096870</td>\n",
              "      <td>0.007120</td>\n",
              "    </tr>\n",
              "    <tr>\n",
              "      <th>28</th>\n",
              "      <td>[Large Lemon]</td>\n",
              "      <td>[Bag of Organic Bananas]</td>\n",
              "      <td>0.127128</td>\n",
              "      <td>1.077088</td>\n",
              "      <td>0.006037</td>\n",
              "    </tr>\n",
              "    <tr>\n",
              "      <th>80</th>\n",
              "      <td>[Strawberries]</td>\n",
              "      <td>[Bag of Organic Bananas]</td>\n",
              "      <td>0.123196</td>\n",
              "      <td>1.043773</td>\n",
              "      <td>0.005478</td>\n",
              "    </tr>\n",
              "    <tr>\n",
              "      <th>86</th>\n",
              "      <td>[Organic Yellow Onion]</td>\n",
              "      <td>[Banana]</td>\n",
              "      <td>0.147188</td>\n",
              "      <td>1.001328</td>\n",
              "      <td>0.005193</td>\n",
              "    </tr>\n",
              "    <tr>\n",
              "      <th>16</th>\n",
              "      <td>[Organic Hass Avocado]</td>\n",
              "      <td>[Banana]</td>\n",
              "      <td>0.146181</td>\n",
              "      <td>0.994476</td>\n",
              "      <td>0.009712</td>\n",
              "    </tr>\n",
              "  </tbody>\n",
              "</table>\n",
              "<p>92 rows × 5 columns</p>\n",
              "</div>\n",
              "      <button class=\"colab-df-convert\" onclick=\"convertToInteractive('df-7998b567-b87c-4242-aede-38bb0c4458a6')\"\n",
              "              title=\"Convert this dataframe to an interactive table.\"\n",
              "              style=\"display:none;\">\n",
              "        \n",
              "  <svg xmlns=\"http://www.w3.org/2000/svg\" height=\"24px\"viewBox=\"0 0 24 24\"\n",
              "       width=\"24px\">\n",
              "    <path d=\"M0 0h24v24H0V0z\" fill=\"none\"/>\n",
              "    <path d=\"M18.56 5.44l.94 2.06.94-2.06 2.06-.94-2.06-.94-.94-2.06-.94 2.06-2.06.94zm-11 1L8.5 8.5l.94-2.06 2.06-.94-2.06-.94L8.5 2.5l-.94 2.06-2.06.94zm10 10l.94 2.06.94-2.06 2.06-.94-2.06-.94-.94-2.06-.94 2.06-2.06.94z\"/><path d=\"M17.41 7.96l-1.37-1.37c-.4-.4-.92-.59-1.43-.59-.52 0-1.04.2-1.43.59L10.3 9.45l-7.72 7.72c-.78.78-.78 2.05 0 2.83L4 21.41c.39.39.9.59 1.41.59.51 0 1.02-.2 1.41-.59l7.78-7.78 2.81-2.81c.8-.78.8-2.07 0-2.86zM5.41 20L4 18.59l7.72-7.72 1.47 1.35L5.41 20z\"/>\n",
              "  </svg>\n",
              "      </button>\n",
              "      \n",
              "  <style>\n",
              "    .colab-df-container {\n",
              "      display:flex;\n",
              "      flex-wrap:wrap;\n",
              "      gap: 12px;\n",
              "    }\n",
              "\n",
              "    .colab-df-convert {\n",
              "      background-color: #E8F0FE;\n",
              "      border: none;\n",
              "      border-radius: 50%;\n",
              "      cursor: pointer;\n",
              "      display: none;\n",
              "      fill: #1967D2;\n",
              "      height: 32px;\n",
              "      padding: 0 0 0 0;\n",
              "      width: 32px;\n",
              "    }\n",
              "\n",
              "    .colab-df-convert:hover {\n",
              "      background-color: #E2EBFA;\n",
              "      box-shadow: 0px 1px 2px rgba(60, 64, 67, 0.3), 0px 1px 3px 1px rgba(60, 64, 67, 0.15);\n",
              "      fill: #174EA6;\n",
              "    }\n",
              "\n",
              "    [theme=dark] .colab-df-convert {\n",
              "      background-color: #3B4455;\n",
              "      fill: #D2E3FC;\n",
              "    }\n",
              "\n",
              "    [theme=dark] .colab-df-convert:hover {\n",
              "      background-color: #434B5C;\n",
              "      box-shadow: 0px 1px 3px 1px rgba(0, 0, 0, 0.15);\n",
              "      filter: drop-shadow(0px 1px 2px rgba(0, 0, 0, 0.3));\n",
              "      fill: #FFFFFF;\n",
              "    }\n",
              "  </style>\n",
              "\n",
              "      <script>\n",
              "        const buttonEl =\n",
              "          document.querySelector('#df-7998b567-b87c-4242-aede-38bb0c4458a6 button.colab-df-convert');\n",
              "        buttonEl.style.display =\n",
              "          google.colab.kernel.accessAllowed ? 'block' : 'none';\n",
              "\n",
              "        async function convertToInteractive(key) {\n",
              "          const element = document.querySelector('#df-7998b567-b87c-4242-aede-38bb0c4458a6');\n",
              "          const dataTable =\n",
              "            await google.colab.kernel.invokeFunction('convertToInteractive',\n",
              "                                                     [key], {});\n",
              "          if (!dataTable) return;\n",
              "\n",
              "          const docLinkHtml = 'Like what you see? Visit the ' +\n",
              "            '<a target=\"_blank\" href=https://colab.research.google.com/notebooks/data_table.ipynb>data table notebook</a>'\n",
              "            + ' to learn more about interactive tables.';\n",
              "          element.innerHTML = '';\n",
              "          dataTable['output_type'] = 'display_data';\n",
              "          await google.colab.output.renderOutput(dataTable, element);\n",
              "          const docLink = document.createElement('div');\n",
              "          docLink.innerHTML = docLinkHtml;\n",
              "          element.appendChild(docLink);\n",
              "        }\n",
              "      </script>\n",
              "    </div>\n",
              "  </div>\n",
              "  "
            ],
            "text/plain": [
              "                antecedent                consequent  confidence      lift  \\\n",
              "39                 [Limes]        [Organic Cilantro]    0.124905  5.775753   \n",
              "79      [Organic Cilantro]                   [Limes]    0.252647  5.775753   \n",
              "48        [Organic Garlic]    [Organic Yellow Onion]    0.201069  5.698983   \n",
              "87  [Organic Yellow Onion]          [Organic Garlic]    0.194603  5.698983   \n",
              "31           [Large Lemon]                   [Limes]    0.179507  4.103710   \n",
              "..                     ...                       ...         ...       ...   \n",
              "63       [Organic Avocado]  [Bag of Organic Bananas]    0.129463  1.096870   \n",
              "28           [Large Lemon]  [Bag of Organic Bananas]    0.127128  1.077088   \n",
              "80          [Strawberries]  [Bag of Organic Bananas]    0.123196  1.043773   \n",
              "86  [Organic Yellow Onion]                  [Banana]    0.147188  1.001328   \n",
              "16  [Organic Hass Avocado]                  [Banana]    0.146181  0.994476   \n",
              "\n",
              "     support  \n",
              "39  0.005464  \n",
              "79  0.005464  \n",
              "48  0.006866  \n",
              "87  0.006866  \n",
              "31  0.008524  \n",
              "..       ...  \n",
              "63  0.007120  \n",
              "28  0.006037  \n",
              "80  0.005478  \n",
              "86  0.005193  \n",
              "16  0.009712  \n",
              "\n",
              "[92 rows x 5 columns]"
            ]
          },
          "execution_count": 27,
          "metadata": {},
          "output_type": "execute_result"
        }
      ],
      "source": [
        "association_rules.sort_values(['lift'], ascending=False)"
      ]
    },
    {
      "cell_type": "code",
      "execution_count": 19,
      "metadata": {
        "id": "l1dmDeE3aqfw"
      },
      "outputs": [],
      "source": []
    }
  ],
  "metadata": {
    "colab": {
      "provenance": []
    },
    "kernelspec": {
      "display_name": "Python 3",
      "name": "python3"
    },
    "language_info": {
      "name": "python",
      "version": "3.11.3"
    }
  },
  "nbformat": 4,
  "nbformat_minor": 0
}
